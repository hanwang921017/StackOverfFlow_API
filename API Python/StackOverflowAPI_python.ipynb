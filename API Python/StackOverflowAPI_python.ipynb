{
 "cells": [
  {
   "cell_type": "markdown",
   "metadata": {},
   "source": [
    "## Han Wang\n",
    "This file is to download data from stackoverflow, like the questions and answers on a specific topic"
   ]
  },
  {
   "cell_type": "code",
   "execution_count": 173,
   "metadata": {},
   "outputs": [],
   "source": [
    "from stackapi import StackAPI\n",
    "from datetime import datetime\n",
    "SITE = StackAPI('stackoverflow')\n",
    "SITE.page_size = 50 # because of limitations on API requests each day, do not set allPosts*SITE.max_pages bogger than 250\n",
    "SITE.max_pages = 2\n",
    "questions = SITE.fetch('questions', fromdate=datetime(2019,1,1), todate=datetime(2019,11,1), tagged='tensorflow', sort='votes')"
   ]
  },
  {
   "cell_type": "code",
   "execution_count": 174,
   "metadata": {},
   "outputs": [
    {
     "data": {
      "text/plain": [
       "300"
      ]
     },
     "execution_count": 174,
     "metadata": {},
     "output_type": "execute_result"
    }
   ],
   "source": [
    "len(questions['items'])"
   ]
  },
  {
   "cell_type": "code",
   "execution_count": 175,
   "metadata": {},
   "outputs": [],
   "source": [
    "dict = {'QuestionId':[],'AskerId':[],'AskerName':[],'AskerReputation':[],'Tags':[],'Is_answered': [],'View_count': [],'Accepted_Answer_id': [],\n",
    "        'Answer_count': [],'QuestionScore': [], 'DateAsked': [], 'link': [], 'QuestionTitle': [],\n",
    "        \"answer_id\":[],'AnswererId':[],'AnswererName':[],'AnswerererReputation':[],'Is_answer_accepted': [], 'Answerer_Score': [], 'DateAnswered': []}\n",
    "\n",
    "NumQ = len(questions['items'])"
   ]
  },
  {
   "cell_type": "code",
   "execution_count": 176,
   "metadata": {},
   "outputs": [
    {
     "ename": "StackAPIError",
     "evalue": "('https://api.stackexchange.com/2.2//questions/58525281/answers/?pagesize=50&page=1&filter=default&site=stackoverflow', 502, 'throttle_violation', 'too many requests from this IP, more requests available in 7101 seconds')",
     "output_type": "error",
     "traceback": [
      "\u001b[0;31m---------------------------------------------------------------------------\u001b[0m",
      "\u001b[0;31mStackAPIError\u001b[0m                             Traceback (most recent call last)",
      "\u001b[0;32m<ipython-input-176-50ff69cb814e>\u001b[0m in \u001b[0;36m<module>\u001b[0;34m\u001b[0m\n\u001b[1;32m      4\u001b[0m         \u001b[0;32mif\u001b[0m \u001b[0;34m'accepted_answer_id'\u001b[0m \u001b[0;32min\u001b[0m \u001b[0mquestions\u001b[0m\u001b[0;34m[\u001b[0m\u001b[0;34m'items'\u001b[0m\u001b[0;34m]\u001b[0m\u001b[0;34m[\u001b[0m\u001b[0mi\u001b[0m\u001b[0;34m]\u001b[0m\u001b[0;34m.\u001b[0m\u001b[0mkeys\u001b[0m\u001b[0;34m(\u001b[0m\u001b[0;34m)\u001b[0m\u001b[0;34m:\u001b[0m\u001b[0;34m\u001b[0m\u001b[0;34m\u001b[0m\u001b[0m\n\u001b[1;32m      5\u001b[0m             \u001b[0;32mif\u001b[0m \u001b[0;34m'user_id'\u001b[0m \u001b[0;32mand\u001b[0m \u001b[0;34m'display_name'\u001b[0m \u001b[0;32mand\u001b[0m \u001b[0;34m'reputation'\u001b[0m \u001b[0;32min\u001b[0m \u001b[0mquestions\u001b[0m\u001b[0;34m[\u001b[0m\u001b[0;34m'items'\u001b[0m\u001b[0;34m]\u001b[0m\u001b[0;34m[\u001b[0m\u001b[0mi\u001b[0m\u001b[0;34m]\u001b[0m\u001b[0;34m[\u001b[0m\u001b[0;34m'owner'\u001b[0m\u001b[0;34m]\u001b[0m\u001b[0;34m.\u001b[0m\u001b[0mkeys\u001b[0m\u001b[0;34m(\u001b[0m\u001b[0;34m)\u001b[0m\u001b[0;34m:\u001b[0m\u001b[0;34m\u001b[0m\u001b[0;34m\u001b[0m\u001b[0m\n\u001b[0;32m----> 6\u001b[0;31m                 \u001b[0manswers\u001b[0m \u001b[0;34m=\u001b[0m \u001b[0mSITE\u001b[0m\u001b[0;34m.\u001b[0m\u001b[0mfetch\u001b[0m\u001b[0;34m(\u001b[0m\u001b[0;34m'/questions/{ids}/answers'\u001b[0m\u001b[0;34m,\u001b[0m \u001b[0mids\u001b[0m\u001b[0;34m=\u001b[0m\u001b[0;34m[\u001b[0m\u001b[0mQId\u001b[0m\u001b[0;34m]\u001b[0m\u001b[0;34m)\u001b[0m\u001b[0;34m\u001b[0m\u001b[0;34m\u001b[0m\u001b[0m\n\u001b[0m\u001b[1;32m      7\u001b[0m                 \u001b[0mNumAn\u001b[0m \u001b[0;34m=\u001b[0m \u001b[0mlen\u001b[0m\u001b[0;34m(\u001b[0m\u001b[0manswers\u001b[0m\u001b[0;34m[\u001b[0m\u001b[0;34m'items'\u001b[0m\u001b[0;34m]\u001b[0m\u001b[0;34m)\u001b[0m\u001b[0;34m\u001b[0m\u001b[0;34m\u001b[0m\u001b[0m\n\u001b[1;32m      8\u001b[0m                 \u001b[0;32mfor\u001b[0m \u001b[0mj\u001b[0m \u001b[0;32min\u001b[0m \u001b[0mrange\u001b[0m\u001b[0;34m(\u001b[0m\u001b[0mNumAn\u001b[0m\u001b[0;34m)\u001b[0m\u001b[0;34m:\u001b[0m\u001b[0;34m\u001b[0m\u001b[0;34m\u001b[0m\u001b[0m\n",
      "\u001b[0;32m~/anaconda3/envs/myproject/lib/python3.7/site-packages/stackapi/stackapi.py\u001b[0m in \u001b[0;36mfetch\u001b[0;34m(self, endpoint, page, key, filter, **kwargs)\u001b[0m\n\u001b[1;32m    196\u001b[0m                 \u001b[0mcode\u001b[0m \u001b[0;34m=\u001b[0m \u001b[0mresponse\u001b[0m\u001b[0;34m[\u001b[0m\u001b[0;34m\"error_name\"\u001b[0m\u001b[0;34m]\u001b[0m\u001b[0;34m\u001b[0m\u001b[0;34m\u001b[0m\u001b[0m\n\u001b[1;32m    197\u001b[0m                 \u001b[0mmessage\u001b[0m \u001b[0;34m=\u001b[0m \u001b[0mresponse\u001b[0m\u001b[0;34m[\u001b[0m\u001b[0;34m\"error_message\"\u001b[0m\u001b[0;34m]\u001b[0m\u001b[0;34m\u001b[0m\u001b[0;34m\u001b[0m\u001b[0m\n\u001b[0;32m--> 198\u001b[0;31m                 \u001b[0;32mraise\u001b[0m \u001b[0mStackAPIError\u001b[0m\u001b[0;34m(\u001b[0m\u001b[0mself\u001b[0m\u001b[0;34m.\u001b[0m\u001b[0m_previous_call\u001b[0m\u001b[0;34m,\u001b[0m \u001b[0merror\u001b[0m\u001b[0;34m,\u001b[0m \u001b[0mcode\u001b[0m\u001b[0;34m,\u001b[0m \u001b[0mmessage\u001b[0m\u001b[0;34m)\u001b[0m\u001b[0;34m\u001b[0m\u001b[0;34m\u001b[0m\u001b[0m\n\u001b[0m\u001b[1;32m    199\u001b[0m             \u001b[0;32mexcept\u001b[0m \u001b[0mKeyError\u001b[0m\u001b[0;34m:\u001b[0m\u001b[0;34m\u001b[0m\u001b[0;34m\u001b[0m\u001b[0m\n\u001b[1;32m    200\u001b[0m                 \u001b[0;32mpass\u001b[0m  \u001b[0;31m# This means there is no error\u001b[0m\u001b[0;34m\u001b[0m\u001b[0;34m\u001b[0m\u001b[0m\n",
      "\u001b[0;31mStackAPIError\u001b[0m: ('https://api.stackexchange.com/2.2//questions/58525281/answers/?pagesize=50&page=1&filter=default&site=stackoverflow', 502, 'throttle_violation', 'too many requests from this IP, more requests available in 7101 seconds')"
     ]
    }
   ],
   "source": [
    "for i in range(NumQ):\n",
    "    QId = questions['items'][i]['question_id']\n",
    "    if 'question_id' and 'tags'and 'is_answered' and 'view_count' and 'answer_count' and 'score' and 'creation_date' and 'title' in questions['items'][i].keys():\n",
    "        if 'accepted_answer_id' in questions['items'][i].keys():\n",
    "            if 'user_id' and 'display_name' and 'reputation' in questions['items'][i]['owner'].keys():\n",
    "                answers = SITE.fetch('/questions/{ids}/answers', ids=[QId])\n",
    "                NumAn = len(answers['items'])\n",
    "                for j in range(NumAn):\n",
    "                    if 'is_accepted' and 'answer_id' and 'score' and 'creation_date' in answers['items'][j].keys():\n",
    "                        if 'user_id' and 'display_name' and 'reputation' in answers['items'][j]['owner'].keys():\n",
    "                            # store question info \n",
    "                            dict['QuestionId'].append(QId)\n",
    "                            dict['AskerId'].append(questions['items'][i]['owner']['user_id'])\n",
    "                            dict['AskerName'].append(questions['items'][i]['owner']['display_name'])\n",
    "                            dict['AskerReputation'].append(questions['items'][i]['owner']['reputation'])\n",
    "                            dict['Tags'].append(questions['items'][i]['tags'])\n",
    "                            dict['Is_answered'].append(questions['items'][i]['is_answered'])\n",
    "                            dict['View_count'].append(questions['items'][i]['view_count'])\n",
    "                            dict['Accepted_Answer_id'].append(questions['items'][i]['accepted_answer_id'])\n",
    "                            dict['Answer_count'].append(questions['items'][i]['answer_count'])      \n",
    "                            dict['QuestionScore'].append(questions['items'][i]['score'])\n",
    "                            dict['DateAsked'].append(questions['items'][i]['creation_date'])\n",
    "                            dict['link'].append(questions['items'][i]['link'])\n",
    "                            dict['QuestionTitle'].append(questions['items'][i]['title'])\n",
    "                            # store answer info       \n",
    "                            dict['AnswererId'].append(answers['items'][j]['owner']['user_id'])\n",
    "                            dict['AnswererName'].append(answers['items'][j]['owner']['display_name'])\n",
    "                            dict['AnswerererReputation'].append(answers['items'][j]['owner']['reputation'])\n",
    "                            dict['answer_id'].append(answers['items'][j]['answer_id'])\n",
    "                            dict['Is_answer_accepted'].append(answers['items'][j]['is_accepted'])\n",
    "                            dict['Answerer_Score'].append(answers['items'][j]['score'])\n",
    "                            dict['DateAnswered'].append(answers['items'][j]['creation_date'])"
   ]
  },
  {
   "cell_type": "code",
   "execution_count": 129,
   "metadata": {},
   "outputs": [],
   "source": [
    "# allPosts.tsv 401 to 750\n",
    "import pandas as pd \n",
    "df750all= pd.DataFrame(dict) \n",
    "# saving the dataframe \n",
    "df750all.to_csv('allPosts.csv') \n",
    "# allPosts-metaData.tsv\n",
    "df750graph=df750all.loc[:,['AskerId','AnswererId']]\n",
    "df750graph.to_csv('allPosts-mataData.csv') "
   ]
  }
 ],
 "metadata": {
  "kernelspec": {
   "display_name": "Python 3",
   "language": "python",
   "name": "python3"
  },
  "language_info": {
   "codemirror_mode": {
    "name": "ipython",
    "version": 3
   },
   "file_extension": ".py",
   "mimetype": "text/x-python",
   "name": "python",
   "nbconvert_exporter": "python",
   "pygments_lexer": "ipython3",
   "version": "3.7.3"
  }
 },
 "nbformat": 4,
 "nbformat_minor": 2
}
