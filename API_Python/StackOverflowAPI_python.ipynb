{
 "cells": [
  {
   "cell_type": "markdown",
   "metadata": {},
   "source": [
    "## This file is to download data from stackoverflow, like the questions and answers on a specific topic: tensorflow"
   ]
  },
  {
   "cell_type": "code",
   "execution_count": 1,
   "metadata": {},
   "outputs": [],
   "source": [
    "from stackapi import StackAPI\n",
    "from datetime import datetime\n",
    "SITE = StackAPI('stackoverflow')\n",
    "SITE.page_size = 10 # because of limitations on API requests each day, do not set allPosts*SITE.max_pages bogger than 250\n",
    "SITE.max_pages = 2\n",
    "questions = SITE.fetch('questions', fromdate=datetime(2019,1,1), todate=datetime(2019,11,1), tagged='tensorflow', sort='votes')"
   ]
  },
  {
   "cell_type": "code",
   "execution_count": 3,
   "metadata": {},
   "outputs": [],
   "source": [
    "dict = {'QuestionId':[],'AskerId':[],'AskerName':[],'AskerReputation':[],'Tags':[],'Is_answered': [],'View_count': [],'Accepted_Answer_id': [],\n",
    "        'Answer_count': [],'QuestionScore': [], 'DateAsked': [], 'link': [], 'QuestionTitle': [],\n",
    "        \"answer_id\":[],'AnswererId':[],'AnswererName':[],'AnswerererReputation':[],'Is_answer_accepted': [], 'Answerer_Score': [], 'DateAnswered': []}\n",
    "\n",
    "NumQ = len(questions['items'])"
   ]
  },
  {
   "cell_type": "code",
   "execution_count": 4,
   "metadata": {},
   "outputs": [],
   "source": [
    "for i in range(NumQ):\n",
    "    QId = questions['items'][i]['question_id']\n",
    "    if 'question_id' and 'tags'and 'is_answered' and 'view_count' and 'answer_count' and 'score' and 'creation_date' and 'title' in questions['items'][i].keys():\n",
    "        if 'accepted_answer_id' in questions['items'][i].keys():\n",
    "            if 'user_id' and 'display_name' and 'reputation' in questions['items'][i]['owner'].keys():\n",
    "                answers = SITE.fetch('/questions/{ids}/answers', ids=[QId])\n",
    "                NumAn = len(answers['items'])\n",
    "                for j in range(NumAn):\n",
    "                    if 'is_accepted' and 'answer_id' and 'score' and 'creation_date' in answers['items'][j].keys():\n",
    "                        if 'user_id' and 'display_name' and 'reputation' in answers['items'][j]['owner'].keys():\n",
    "                            # store question info \n",
    "                            dict['QuestionId'].append(QId)\n",
    "                            dict['AskerId'].append(questions['items'][i]['owner']['user_id'])\n",
    "                            dict['AskerName'].append(questions['items'][i]['owner']['display_name'])\n",
    "                            dict['AskerReputation'].append(questions['items'][i]['owner']['reputation'])\n",
    "                            dict['Tags'].append(questions['items'][i]['tags'])\n",
    "                            dict['Is_answered'].append(questions['items'][i]['is_answered'])\n",
    "                            dict['View_count'].append(questions['items'][i]['view_count'])\n",
    "                            dict['Accepted_Answer_id'].append(questions['items'][i]['accepted_answer_id'])\n",
    "                            dict['Answer_count'].append(questions['items'][i]['answer_count'])      \n",
    "                            dict['QuestionScore'].append(questions['items'][i]['score'])\n",
    "                            dict['DateAsked'].append(questions['items'][i]['creation_date'])\n",
    "                            dict['link'].append(questions['items'][i]['link'])\n",
    "                            dict['QuestionTitle'].append(questions['items'][i]['title'])\n",
    "                            # store answer info       \n",
    "                            dict['AnswererId'].append(answers['items'][j]['owner']['user_id'])\n",
    "                            dict['AnswererName'].append(answers['items'][j]['owner']['display_name'])\n",
    "                            dict['AnswerererReputation'].append(answers['items'][j]['owner']['reputation'])\n",
    "                            dict['answer_id'].append(answers['items'][j]['answer_id'])\n",
    "                            dict['Is_answer_accepted'].append(answers['items'][j]['is_accepted'])\n",
    "                            dict['Answerer_Score'].append(answers['items'][j]['score'])\n",
    "                            dict['DateAnswered'].append(answers['items'][j]['creation_date'])"
   ]
  },
  {
   "cell_type": "code",
   "execution_count": 8,
   "metadata": {},
   "outputs": [],
   "source": [
    "# allPosts.tsv \n",
    "import pandas as pd \n",
    "df= pd.DataFrame(dict) \n",
    "# saving the dataframe \n",
    "df.to_csv('allPosts.tsv',sep='\\t') \n",
    "# allPosts-metaData.tsv\n",
    "df_meta=df.loc[:,['QuestionId','AskerId','AskerName','QuestionTitle','answer_id','AnswererId']]\n",
    "df_meta.to_csv('allPosts-mataData.tsv',sep='\\t') "
   ]
  }
 ],
 "metadata": {
  "kernelspec": {
   "display_name": "Python 3",
   "language": "python",
   "name": "python3"
  },
  "language_info": {
   "codemirror_mode": {
    "name": "ipython",
    "version": 3
   },
   "file_extension": ".py",
   "mimetype": "text/x-python",
   "name": "python",
   "nbconvert_exporter": "python",
   "pygments_lexer": "ipython3",
   "version": "3.7.3"
  }
 },
 "nbformat": 4,
 "nbformat_minor": 2
}
